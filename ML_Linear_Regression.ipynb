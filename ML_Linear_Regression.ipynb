{
 "cells": [
  {
   "cell_type": "code",
   "execution_count": 34,
   "metadata": {},
   "outputs": [],
   "source": [
    "import pandas as pd\n",
    "import tensorflow \n",
    "import keras \n",
    "import numpy as np\n",
    "import sklearn\n",
    "import pickle\n",
    "import matplotlib.pyplot as plt\n",
    "from matplotlib import style\n",
    "from sklearn import linear_model \n",
    "from sklearn.utils import shuffle \n",
    "from sklearn.tree import DecisionTreeClassifier\n",
    "from sklearn.model_selection import train_test_split\n",
    "from sklearn.metrics import accuracy_score, mean_squared_error, r2_score\n",
    "from sklearn.utils import shuffle\n",
    "from sklearn.neighbors import KNeighborsClassifier\n",
    "from sklearn import linear_model, preprocessing\n",
    "from sklearn.preprocessing import LabelEncoder,MinMaxScaler,StandardScaler"
   ]
  },
  {
   "cell_type": "code",
   "execution_count": 2,
   "metadata": {},
   "outputs": [
    {
     "data": {
      "text/html": [
       "<div>\n",
       "<style scoped>\n",
       "    .dataframe tbody tr th:only-of-type {\n",
       "        vertical-align: middle;\n",
       "    }\n",
       "\n",
       "    .dataframe tbody tr th {\n",
       "        vertical-align: top;\n",
       "    }\n",
       "\n",
       "    .dataframe thead th {\n",
       "        text-align: right;\n",
       "    }\n",
       "</style>\n",
       "<table border=\"1\" class=\"dataframe\">\n",
       "  <thead>\n",
       "    <tr style=\"text-align: right;\">\n",
       "      <th></th>\n",
       "      <th>Name</th>\n",
       "      <th>ID</th>\n",
       "      <th>Fpts</th>\n",
       "      <th>Position</th>\n",
       "      <th>Team</th>\n",
       "      <th>Opponent</th>\n",
       "      <th>Salary</th>\n",
       "      <th>Value</th>\n",
       "      <th>Points Rank</th>\n",
       "      <th>Value Rank</th>\n",
       "      <th>Team total</th>\n",
       "      <th>Main Ownership %</th>\n",
       "      <th>Early Ownership %</th>\n",
       "      <th>Afternoon Ownership %</th>\n",
       "    </tr>\n",
       "  </thead>\n",
       "  <tbody>\n",
       "    <tr>\n",
       "      <th>0</th>\n",
       "      <td>Lamar Jackson</td>\n",
       "      <td>0</td>\n",
       "      <td>26.44</td>\n",
       "      <td>QB</td>\n",
       "      <td>BAL</td>\n",
       "      <td>CLE</td>\n",
       "      <td>9300</td>\n",
       "      <td>2.84</td>\n",
       "      <td>A</td>\n",
       "      <td>A</td>\n",
       "      <td>27.50</td>\n",
       "      <td>18.0</td>\n",
       "      <td>22.5</td>\n",
       "      <td>NaN</td>\n",
       "    </tr>\n",
       "    <tr>\n",
       "      <th>1</th>\n",
       "      <td>Christian McCaffrey</td>\n",
       "      <td>1</td>\n",
       "      <td>22.69</td>\n",
       "      <td>RB</td>\n",
       "      <td>CAR</td>\n",
       "      <td>LV</td>\n",
       "      <td>10000</td>\n",
       "      <td>2.27</td>\n",
       "      <td>A</td>\n",
       "      <td>B</td>\n",
       "      <td>22.63</td>\n",
       "      <td>38.6</td>\n",
       "      <td>51.3</td>\n",
       "      <td>NaN</td>\n",
       "    </tr>\n",
       "    <tr>\n",
       "      <th>2</th>\n",
       "      <td>Cam Newton</td>\n",
       "      <td>2</td>\n",
       "      <td>21.14</td>\n",
       "      <td>QB</td>\n",
       "      <td>NE</td>\n",
       "      <td>MIA</td>\n",
       "      <td>7400</td>\n",
       "      <td>2.86</td>\n",
       "      <td>A</td>\n",
       "      <td>A</td>\n",
       "      <td>24.25</td>\n",
       "      <td>4.4</td>\n",
       "      <td>8.8</td>\n",
       "      <td>NaN</td>\n",
       "    </tr>\n",
       "    <tr>\n",
       "      <th>3</th>\n",
       "      <td>Dak Prescott</td>\n",
       "      <td>3</td>\n",
       "      <td>20.59</td>\n",
       "      <td>QB</td>\n",
       "      <td>DAL</td>\n",
       "      <td>LAR</td>\n",
       "      <td>8400</td>\n",
       "      <td>2.45</td>\n",
       "      <td>B</td>\n",
       "      <td>A</td>\n",
       "      <td>26.75</td>\n",
       "      <td>NaN</td>\n",
       "      <td>NaN</td>\n",
       "      <td>NaN</td>\n",
       "    </tr>\n",
       "    <tr>\n",
       "      <th>4</th>\n",
       "      <td>Russell Wilson</td>\n",
       "      <td>4</td>\n",
       "      <td>20.12</td>\n",
       "      <td>QB</td>\n",
       "      <td>SEA</td>\n",
       "      <td>ATL</td>\n",
       "      <td>8400</td>\n",
       "      <td>2.39</td>\n",
       "      <td>B</td>\n",
       "      <td>B</td>\n",
       "      <td>25.25</td>\n",
       "      <td>9.2</td>\n",
       "      <td>7.7</td>\n",
       "      <td>NaN</td>\n",
       "    </tr>\n",
       "    <tr>\n",
       "      <th>...</th>\n",
       "      <td>...</td>\n",
       "      <td>...</td>\n",
       "      <td>...</td>\n",
       "      <td>...</td>\n",
       "      <td>...</td>\n",
       "      <td>...</td>\n",
       "      <td>...</td>\n",
       "      <td>...</td>\n",
       "      <td>...</td>\n",
       "      <td>...</td>\n",
       "      <td>...</td>\n",
       "      <td>...</td>\n",
       "      <td>...</td>\n",
       "      <td>...</td>\n",
       "    </tr>\n",
       "    <tr>\n",
       "      <th>258</th>\n",
       "      <td>KJ Hamler</td>\n",
       "      <td>258</td>\n",
       "      <td>3.31</td>\n",
       "      <td>WR</td>\n",
       "      <td>DEN</td>\n",
       "      <td>TEN</td>\n",
       "      <td>4700</td>\n",
       "      <td>0.70</td>\n",
       "      <td>E</td>\n",
       "      <td>E</td>\n",
       "      <td>18.88</td>\n",
       "      <td>NaN</td>\n",
       "      <td>NaN</td>\n",
       "      <td>NaN</td>\n",
       "    </tr>\n",
       "    <tr>\n",
       "      <th>259</th>\n",
       "      <td>Taysom Hill</td>\n",
       "      <td>259</td>\n",
       "      <td>3.22</td>\n",
       "      <td>WR</td>\n",
       "      <td>NO</td>\n",
       "      <td>TB</td>\n",
       "      <td>5000</td>\n",
       "      <td>0.64</td>\n",
       "      <td>E</td>\n",
       "      <td>E</td>\n",
       "      <td>25.50</td>\n",
       "      <td>0.1</td>\n",
       "      <td>NaN</td>\n",
       "      <td>0.2</td>\n",
       "    </tr>\n",
       "    <tr>\n",
       "      <th>260</th>\n",
       "      <td>Anthony Firkser</td>\n",
       "      <td>260</td>\n",
       "      <td>3.11</td>\n",
       "      <td>TE</td>\n",
       "      <td>TEN</td>\n",
       "      <td>DEN</td>\n",
       "      <td>4200</td>\n",
       "      <td>0.74</td>\n",
       "      <td>E</td>\n",
       "      <td>E</td>\n",
       "      <td>22.13</td>\n",
       "      <td>NaN</td>\n",
       "      <td>NaN</td>\n",
       "      <td>NaN</td>\n",
       "    </tr>\n",
       "    <tr>\n",
       "      <th>261</th>\n",
       "      <td>Chase Edmonds</td>\n",
       "      <td>261</td>\n",
       "      <td>3.03</td>\n",
       "      <td>RB</td>\n",
       "      <td>ARI</td>\n",
       "      <td>SF</td>\n",
       "      <td>5000</td>\n",
       "      <td>0.61</td>\n",
       "      <td>E</td>\n",
       "      <td>E</td>\n",
       "      <td>20.88</td>\n",
       "      <td>0.1</td>\n",
       "      <td>NaN</td>\n",
       "      <td>0.2</td>\n",
       "    </tr>\n",
       "    <tr>\n",
       "      <th>262</th>\n",
       "      <td>AJ Dillon</td>\n",
       "      <td>262</td>\n",
       "      <td>3.01</td>\n",
       "      <td>RB</td>\n",
       "      <td>GB</td>\n",
       "      <td>MIN</td>\n",
       "      <td>4700</td>\n",
       "      <td>0.64</td>\n",
       "      <td>E</td>\n",
       "      <td>E</td>\n",
       "      <td>21.00</td>\n",
       "      <td>0.1</td>\n",
       "      <td>0.1</td>\n",
       "      <td>NaN</td>\n",
       "    </tr>\n",
       "  </tbody>\n",
       "</table>\n",
       "<p>263 rows × 14 columns</p>\n",
       "</div>"
      ],
      "text/plain": [
       "                    Name   ID   Fpts Position Team Opponent  Salary  Value  \\\n",
       "0          Lamar Jackson    0  26.44       QB  BAL      CLE    9300   2.84   \n",
       "1    Christian McCaffrey    1  22.69       RB  CAR       LV   10000   2.27   \n",
       "2             Cam Newton    2  21.14       QB   NE      MIA    7400   2.86   \n",
       "3           Dak Prescott    3  20.59       QB  DAL      LAR    8400   2.45   \n",
       "4         Russell Wilson    4  20.12       QB  SEA      ATL    8400   2.39   \n",
       "..                   ...  ...    ...      ...  ...      ...     ...    ...   \n",
       "258            KJ Hamler  258   3.31       WR  DEN      TEN    4700   0.70   \n",
       "259          Taysom Hill  259   3.22       WR   NO       TB    5000   0.64   \n",
       "260      Anthony Firkser  260   3.11       TE  TEN      DEN    4200   0.74   \n",
       "261        Chase Edmonds  261   3.03       RB  ARI       SF    5000   0.61   \n",
       "262            AJ Dillon  262   3.01       RB   GB      MIN    4700   0.64   \n",
       "\n",
       "    Points Rank Value Rank  Team total  Main Ownership %  Early Ownership %  \\\n",
       "0             A          A       27.50              18.0               22.5   \n",
       "1             A          B       22.63              38.6               51.3   \n",
       "2             A          A       24.25               4.4                8.8   \n",
       "3             B          A       26.75               NaN                NaN   \n",
       "4             B          B       25.25               9.2                7.7   \n",
       "..          ...        ...         ...               ...                ...   \n",
       "258           E          E       18.88               NaN                NaN   \n",
       "259           E          E       25.50               0.1                NaN   \n",
       "260           E          E       22.13               NaN                NaN   \n",
       "261           E          E       20.88               0.1                NaN   \n",
       "262           E          E       21.00               0.1                0.1   \n",
       "\n",
       "     Afternoon Ownership %  \n",
       "0                      NaN  \n",
       "1                      NaN  \n",
       "2                      NaN  \n",
       "3                      NaN  \n",
       "4                      NaN  \n",
       "..                     ...  \n",
       "258                    NaN  \n",
       "259                    0.2  \n",
       "260                    NaN  \n",
       "261                    0.2  \n",
       "262                    NaN  \n",
       "\n",
       "[263 rows x 14 columns]"
      ]
     },
     "execution_count": 2,
     "metadata": {},
     "output_type": "execute_result"
    }
   ],
   "source": [
    "df = pd.read_csv('week1.csv')\n",
    "df"
   ]
  },
  {
   "cell_type": "code",
   "execution_count": 4,
   "metadata": {},
   "outputs": [
    {
     "data": {
      "text/html": [
       "<div>\n",
       "<style scoped>\n",
       "    .dataframe tbody tr th:only-of-type {\n",
       "        vertical-align: middle;\n",
       "    }\n",
       "\n",
       "    .dataframe tbody tr th {\n",
       "        vertical-align: top;\n",
       "    }\n",
       "\n",
       "    .dataframe thead th {\n",
       "        text-align: right;\n",
       "    }\n",
       "</style>\n",
       "<table border=\"1\" class=\"dataframe\">\n",
       "  <thead>\n",
       "    <tr style=\"text-align: right;\">\n",
       "      <th></th>\n",
       "      <th>ID</th>\n",
       "      <th>Fpts</th>\n",
       "      <th>Salary</th>\n",
       "      <th>Value</th>\n",
       "    </tr>\n",
       "  </thead>\n",
       "  <tbody>\n",
       "    <tr>\n",
       "      <th>0</th>\n",
       "      <td>0</td>\n",
       "      <td>26.44</td>\n",
       "      <td>9300</td>\n",
       "      <td>2.84</td>\n",
       "    </tr>\n",
       "    <tr>\n",
       "      <th>1</th>\n",
       "      <td>1</td>\n",
       "      <td>22.69</td>\n",
       "      <td>10000</td>\n",
       "      <td>2.27</td>\n",
       "    </tr>\n",
       "    <tr>\n",
       "      <th>2</th>\n",
       "      <td>2</td>\n",
       "      <td>21.14</td>\n",
       "      <td>7400</td>\n",
       "      <td>2.86</td>\n",
       "    </tr>\n",
       "    <tr>\n",
       "      <th>3</th>\n",
       "      <td>3</td>\n",
       "      <td>20.59</td>\n",
       "      <td>8400</td>\n",
       "      <td>2.45</td>\n",
       "    </tr>\n",
       "    <tr>\n",
       "      <th>4</th>\n",
       "      <td>4</td>\n",
       "      <td>20.12</td>\n",
       "      <td>8400</td>\n",
       "      <td>2.39</td>\n",
       "    </tr>\n",
       "    <tr>\n",
       "      <th>...</th>\n",
       "      <td>...</td>\n",
       "      <td>...</td>\n",
       "      <td>...</td>\n",
       "      <td>...</td>\n",
       "    </tr>\n",
       "    <tr>\n",
       "      <th>258</th>\n",
       "      <td>258</td>\n",
       "      <td>3.31</td>\n",
       "      <td>4700</td>\n",
       "      <td>0.70</td>\n",
       "    </tr>\n",
       "    <tr>\n",
       "      <th>259</th>\n",
       "      <td>259</td>\n",
       "      <td>3.22</td>\n",
       "      <td>5000</td>\n",
       "      <td>0.64</td>\n",
       "    </tr>\n",
       "    <tr>\n",
       "      <th>260</th>\n",
       "      <td>260</td>\n",
       "      <td>3.11</td>\n",
       "      <td>4200</td>\n",
       "      <td>0.74</td>\n",
       "    </tr>\n",
       "    <tr>\n",
       "      <th>261</th>\n",
       "      <td>261</td>\n",
       "      <td>3.03</td>\n",
       "      <td>5000</td>\n",
       "      <td>0.61</td>\n",
       "    </tr>\n",
       "    <tr>\n",
       "      <th>262</th>\n",
       "      <td>262</td>\n",
       "      <td>3.01</td>\n",
       "      <td>4700</td>\n",
       "      <td>0.64</td>\n",
       "    </tr>\n",
       "  </tbody>\n",
       "</table>\n",
       "<p>263 rows × 4 columns</p>\n",
       "</div>"
      ],
      "text/plain": [
       "      ID   Fpts  Salary  Value\n",
       "0      0  26.44    9300   2.84\n",
       "1      1  22.69   10000   2.27\n",
       "2      2  21.14    7400   2.86\n",
       "3      3  20.59    8400   2.45\n",
       "4      4  20.12    8400   2.39\n",
       "..   ...    ...     ...    ...\n",
       "258  258   3.31    4700   0.70\n",
       "259  259   3.22    5000   0.64\n",
       "260  260   3.11    4200   0.74\n",
       "261  261   3.03    5000   0.61\n",
       "262  262   3.01    4700   0.64\n",
       "\n",
       "[263 rows x 4 columns]"
      ]
     },
     "execution_count": 4,
     "metadata": {},
     "output_type": "execute_result"
    }
   ],
   "source": [
    "data = df[[\"ID\",\"Fpts\", \"Salary\", \"Value\"]]\n",
    "data"
   ]
  },
  {
   "cell_type": "code",
   "execution_count": 15,
   "metadata": {},
   "outputs": [],
   "source": [
    "x = data.drop([\"Fpts\", \"ID\"], axis=1)\n",
    "y = data.Fpts.values.reshape(-1,1)"
   ]
  },
  {
   "cell_type": "code",
   "execution_count": 22,
   "metadata": {},
   "outputs": [],
   "source": [
    "x_train, x_test, y_train, y_test = sklearn.model_selection.train_test_split(x, y, test_size = 0.2)"
   ]
  },
  {
   "cell_type": "code",
   "execution_count": 24,
   "metadata": {},
   "outputs": [],
   "source": [
    "x_scaler = MinMaxScaler().fit(x_train)\n",
    "y_scaler = MinMaxScaler().fit(y_train)\n",
    "\n",
    "x_train_scaled = x_scaler.transform(x_train)\n",
    "x_test_scaled = x_scaler.transform(x_test)\n",
    "y_train_scaled = y_scaler.transform(y_train)\n",
    "y_test_scaled = y_scaler.transform(y_test)"
   ]
  },
  {
   "cell_type": "code",
   "execution_count": 25,
   "metadata": {},
   "outputs": [
    {
     "data": {
      "text/plain": [
       "((210, 2), (210, 1))"
      ]
     },
     "execution_count": 25,
     "metadata": {},
     "output_type": "execute_result"
    }
   ],
   "source": [
    "x_train.shape, y_train.shape"
   ]
  },
  {
   "cell_type": "code",
   "execution_count": 26,
   "metadata": {},
   "outputs": [
    {
     "data": {
      "text/plain": [
       "((53, 2), (53, 1))"
      ]
     },
     "execution_count": 26,
     "metadata": {},
     "output_type": "execute_result"
    }
   ],
   "source": [
    "x_test.shape, y_test.shape"
   ]
  },
  {
   "cell_type": "code",
   "execution_count": 27,
   "metadata": {},
   "outputs": [],
   "source": [
    "model = linear_model.LinearRegression()"
   ]
  },
  {
   "cell_type": "code",
   "execution_count": 30,
   "metadata": {},
   "outputs": [
    {
     "data": {
      "text/plain": [
       "LinearRegression(copy_X=True, fit_intercept=True, n_jobs=None, normalize=False)"
      ]
     },
     "execution_count": 30,
     "metadata": {},
     "output_type": "execute_result"
    }
   ],
   "source": [
    "model.fit(x_train, y_train)"
   ]
  },
  {
   "cell_type": "code",
   "execution_count": 31,
   "metadata": {},
   "outputs": [
    {
     "name": "stdout",
     "output_type": "stream",
     "text": [
      "[[1.8541217e-03 5.5632223e+00]]\n",
      "[-9.93561677]\n",
      "0.9851091842792792\n",
      "0.24501366225646906\n",
      "0.9878040270060581\n"
     ]
    }
   ],
   "source": [
    "y_pred = model.predict(x_test)\n",
    "\n",
    "print(model.coef_) #coefficient\n",
    "print(model.intercept_) #y-intercept\n",
    "print(model.score(x_train, y_train)) #evaluate the model \n",
    "print(mean_squared_error(y_test, y_pred)) #mse\n",
    "print(r2_score(y_test, y_pred)) #R^2"
   ]
  },
  {
   "cell_type": "code",
   "execution_count": 35,
   "metadata": {},
   "outputs": [
    {
     "data": {
      "image/png": "[encoded data removed]",
      "text/plain": [
       "<Figure size 432x288 with 1 Axes>"
      ]
     },
     "metadata": {
      "needs_background": "light"
     },
     "output_type": "display_data"
    }
   ],
   "source": [
    "predictions = model.predict(x_test_scaled)\n",
    "model.fit(x_train_scaled, y_train_scaled)\n",
    "plt.scatter(model.predict(x_train_scaled), model.predict(x_train_scaled) - y_train_scaled, c=\"blue\", label=\"Training Data\")\n",
    "plt.scatter(model.predict(x_test_scaled), model.predict(x_test_scaled) - y_test_scaled, c=\"orange\", label=\"Testing Data\")\n",
    "plt.legend()\n",
    "plt.hlines(y=0, xmin=y_test_scaled.min(), xmax=y_test_scaled.max())\n",
    "plt.title(\"Residual Plot\")\n",
    "plt.show()"
   ]
  },
  {
   "cell_type": "code",
   "execution_count": 36,
   "metadata": {},
   "outputs": [
    {
     "name": "stdout",
     "output_type": "stream",
     "text": [
      "First 10 Predictions:   [[ 0.56096866]\n",
      " [ 0.33067734]\n",
      " [-0.04445246]\n",
      " [ 0.16290339]\n",
      " [ 0.09722137]\n",
      " [ 0.67968873]\n",
      " [ 0.45255474]\n",
      " [ 0.62034333]\n",
      " [ 0.36233115]\n",
      " [ 0.16289607]]\n",
      "First 10 Actual stats: [[0.54758856]\n",
      " [0.30644473]\n",
      " [0.00426803]\n",
      " [0.16047802]\n",
      " [0.11182245]\n",
      " [0.73026035]\n",
      " [0.44046095]\n",
      " [0.65130175]\n",
      " [0.33461374]\n",
      " [0.14852753]]\n"
     ]
    }
   ],
   "source": [
    "print(f\"First 10 Predictions:   {predictions[:10]}\")\n",
    "print(f\"First 10 Actual stats: {y_test_scaled[:10]}\")"
   ]
  },
  {
   "cell_type": "code",
   "execution_count": 38,
   "metadata": {},
   "outputs": [],
   "source": [
    "y_new = y_scaler.inverse_transform(y_test_scaled)\n",
    "y_new1 = y_scaler.inverse_transform(predictions)"
   ]
  },
  {
   "cell_type": "code",
   "execution_count": 39,
   "metadata": {},
   "outputs": [
    {
     "data": {
      "text/plain": [
       "array([[15.84],\n",
       "       [10.19],\n",
       "       [ 3.11],\n",
       "       [ 6.77],\n",
       "       [ 5.63],\n",
       "       [20.12],\n",
       "       [13.33],\n",
       "       [18.27],\n",
       "       [10.85],\n",
       "       [ 6.49],\n",
       "       [13.06],\n",
       "       [ 3.77],\n",
       "       [15.82],\n",
       "       [ 7.29],\n",
       "       [ 6.2 ],\n",
       "       [11.07],\n",
       "       [ 7.59],\n",
       "       [ 4.79],\n",
       "       [10.77],\n",
       "       [11.53],\n",
       "       [ 5.93],\n",
       "       [11.19],\n",
       "       [13.79],\n",
       "       [17.84],\n",
       "       [ 6.12],\n",
       "       [ 8.53],\n",
       "       [10.21],\n",
       "       [ 6.93],\n",
       "       [ 8.14],\n",
       "       [ 6.09],\n",
       "       [ 9.17],\n",
       "       [11.75],\n",
       "       [18.32],\n",
       "       [10.18],\n",
       "       [ 5.98],\n",
       "       [19.24],\n",
       "       [ 5.39],\n",
       "       [ 9.04],\n",
       "       [17.57],\n",
       "       [16.57],\n",
       "       [ 8.66],\n",
       "       [ 7.87],\n",
       "       [ 5.4 ],\n",
       "       [ 7.19],\n",
       "       [ 4.3 ],\n",
       "       [ 8.16],\n",
       "       [ 3.22],\n",
       "       [ 4.46],\n",
       "       [ 7.42],\n",
       "       [11.56],\n",
       "       [ 8.09],\n",
       "       [ 6.47],\n",
       "       [ 5.95]])"
      ]
     },
     "execution_count": 39,
     "metadata": {},
     "output_type": "execute_result"
    }
   ],
   "source": [
    "y_new #actual "
   ]
  },
  {
   "cell_type": "code",
   "execution_count": 40,
   "metadata": {},
   "outputs": [
    {
     "data": {
      "text/plain": [
       "array([[16.15349569],\n",
       "       [10.75777009],\n",
       "       [ 1.96847889],\n",
       "       [ 6.82682635],\n",
       "       [ 5.28789677],\n",
       "       [18.93510684],\n",
       "       [13.61335753],\n",
       "       [17.54464415],\n",
       "       [11.49941877],\n",
       "       [ 6.82665492],\n",
       "       [13.35379764],\n",
       "       [ 3.43326075],\n",
       "       [16.00520024],\n",
       "       [ 7.82794921],\n",
       "       [ 6.49346161],\n",
       "       [11.64779994],\n",
       "       [ 8.19877355],\n",
       "       [ 4.17542375],\n",
       "       [11.6105975 ],\n",
       "       [12.22255195],\n",
       "       [ 5.78841534],\n",
       "       [11.70343217],\n",
       "       [14.09544632],\n",
       "       [17.21085081],\n",
       "       [ 5.97391323],\n",
       "       [ 8.82950067],\n",
       "       [10.62807587],\n",
       "       [ 6.99389446],\n",
       "       [ 8.51413711],\n",
       "       [ 6.36308163],\n",
       "       [ 9.60818035],\n",
       "       [12.22263767],\n",
       "       [17.93364111],\n",
       "       [10.59104486],\n",
       "       [ 6.32596491],\n",
       "       [18.23074632],\n",
       "       [ 5.15828826],\n",
       "       [ 9.46014206],\n",
       "       [17.0437827 ],\n",
       "       [16.22807201],\n",
       "       [ 9.18163807],\n",
       "       [ 8.10628177],\n",
       "       [ 5.26912411],\n",
       "       [ 7.38306287],\n",
       "       [ 4.0452152 ],\n",
       "       [ 8.4215596 ],\n",
       "       [ 2.89545402],\n",
       "       [ 3.91552097],\n",
       "       [ 7.5872477 ],\n",
       "       [12.11137323],\n",
       "       [ 8.42173104],\n",
       "       [ 7.23528173],\n",
       "       [ 5.95522629]])"
      ]
     },
     "execution_count": 40,
     "metadata": {},
     "output_type": "execute_result"
    }
   ],
   "source": [
    "y_new1 #prediction "
   ]
  },
  {
   "cell_type": "code",
   "execution_count": 239,
   "metadata": {},
   "outputs": [
    {
     "data": {
      "text/html": [
       "<div>\n",
       "<style scoped>\n",
       "    .dataframe tbody tr th:only-of-type {\n",
       "        vertical-align: middle;\n",
       "    }\n",
       "\n",
       "    .dataframe tbody tr th {\n",
       "        vertical-align: top;\n",
       "    }\n",
       "\n",
       "    .dataframe thead th {\n",
       "        text-align: right;\n",
       "    }\n",
       "</style>\n",
       "<table border=\"1\" class=\"dataframe\">\n",
       "  <thead>\n",
       "    <tr style=\"text-align: right;\">\n",
       "      <th></th>\n",
       "      <th>ID</th>\n",
       "      <th>Fpts</th>\n",
       "      <th>Salary</th>\n",
       "      <th>Value</th>\n",
       "    </tr>\n",
       "  </thead>\n",
       "  <tbody>\n",
       "    <tr>\n",
       "      <th>0</th>\n",
       "      <td>0</td>\n",
       "      <td>26.44</td>\n",
       "      <td>9300</td>\n",
       "      <td>2.84</td>\n",
       "    </tr>\n",
       "    <tr>\n",
       "      <th>1</th>\n",
       "      <td>1</td>\n",
       "      <td>22.69</td>\n",
       "      <td>10000</td>\n",
       "      <td>2.27</td>\n",
       "    </tr>\n",
       "    <tr>\n",
       "      <th>2</th>\n",
       "      <td>2</td>\n",
       "      <td>21.14</td>\n",
       "      <td>7400</td>\n",
       "      <td>2.86</td>\n",
       "    </tr>\n",
       "    <tr>\n",
       "      <th>3</th>\n",
       "      <td>3</td>\n",
       "      <td>20.59</td>\n",
       "      <td>8400</td>\n",
       "      <td>2.45</td>\n",
       "    </tr>\n",
       "    <tr>\n",
       "      <th>4</th>\n",
       "      <td>4</td>\n",
       "      <td>20.12</td>\n",
       "      <td>8400</td>\n",
       "      <td>2.39</td>\n",
       "    </tr>\n",
       "  </tbody>\n",
       "</table>\n",
       "</div>"
      ],
      "text/plain": [
       "   ID   Fpts  Salary  Value\n",
       "0   0  26.44    9300   2.84\n",
       "1   1  22.69   10000   2.27\n",
       "2   2  21.14    7400   2.86\n",
       "3   3  20.59    8400   2.45\n",
       "4   4  20.12    8400   2.39"
      ]
     },
     "execution_count": 239,
     "metadata": {},
     "output_type": "execute_result"
    }
   ],
   "source": [
    "data.head()"
   ]
  },
  {
   "cell_type": "code",
   "execution_count": 240,
   "metadata": {},
   "outputs": [
    {
     "data": {
      "text/plain": [
       "0.987513652174763"
      ]
     },
     "execution_count": 240,
     "metadata": {},
     "output_type": "execute_result"
    }
   ],
   "source": [
    "r2_score(y_test, y_pred)"
   ]
  },
  {
   "cell_type": "code",
   "execution_count": 241,
   "metadata": {},
   "outputs": [
    {
     "data": {
      "text/plain": [
       "dtype('float64')"
      ]
     },
     "execution_count": 241,
     "metadata": {},
     "output_type": "execute_result"
    }
   ],
   "source": [
    "r2_score(y_test, y_pred).dtype"
   ]
  },
  {
   "cell_type": "code",
   "execution_count": 91,
   "metadata": {},
   "outputs": [],
   "source": [
    "# predict = \"Fpts\"\n",
    "# X = np.array(data.drop([predict], 1))\n",
    "# y = np.array(data[predict])   \n"
   ]
  },
  {
   "cell_type": "code",
   "execution_count": 224,
   "metadata": {},
   "outputs": [],
   "source": [
    "# ##Testing 30 times for most accurate model & store it in pickle as \"projectionmodle.pickle\"\n",
    "\n",
    "# best = 0 \n",
    "# for _ in range(30):\n",
    "#     x_train, x_test, y_train, y_test = sklearn.model_selection.train_test_split(X, y, test_size = 0.2)\n",
    "#     linear = linear_model.LinearRegression()\n",
    "#     linear.fit(x_train, y_train)\n",
    "#     accuracy = linear.score(x_test, y_test)\n",
    "#     print(accuracy)\n",
    "#     if accuracy > best:\n",
    "#         best = accuracy\n",
    "#         with open(\"projectionmodel.pickle\", \"wb\") as f:\n",
    "#             pickle.dump(linear, f)\n",
    "# pickle_in = open(\"projectionmodel.pickle\", \"rb\")\n",
    "# linear = pickle.load(pickle_in) "
   ]
  },
  {
   "cell_type": "code",
   "execution_count": 225,
   "metadata": {},
   "outputs": [],
   "source": [
    "# predictions = linear.predict(x_test)\n",
    "# for x in range(len(predictions)):\n",
    "#     print(predictions[x], x_test[x], y_test[x])"
   ]
  },
  {
   "cell_type": "code",
   "execution_count": 82,
   "metadata": {},
   "outputs": [
    {
     "name": "stdout",
     "output_type": "stream",
     "text": [
      "0.9814690519550111\n"
     ]
    }
   ],
   "source": [
    "# linear.fit(x_train, y_train)\n",
    "# acc = linear.score(x_test, y_test)\n",
    "# print(acc)"
   ]
  },
  {
   "cell_type": "code",
   "execution_count": 83,
   "metadata": {},
   "outputs": [
    {
     "name": "stdout",
     "output_type": "stream",
     "text": [
      "[2.54404186e-02 2.50624282e-03 8.00586491e+00]\n",
      "-20.712124919756818\n"
     ]
    }
   ],
   "source": [
    "# print(linear.coef_)\n",
    "# print(linear.intercept_)"
   ]
  },
  {
   "cell_type": "code",
   "execution_count": 242,
   "metadata": {},
   "outputs": [
    {
     "data": {
      "text/html": [
       "<div>\n",
       "<style scoped>\n",
       "    .dataframe tbody tr th:only-of-type {\n",
       "        vertical-align: middle;\n",
       "    }\n",
       "\n",
       "    .dataframe tbody tr th {\n",
       "        vertical-align: top;\n",
       "    }\n",
       "\n",
       "    .dataframe thead th {\n",
       "        text-align: right;\n",
       "    }\n",
       "</style>\n",
       "<table border=\"1\" class=\"dataframe\">\n",
       "  <thead>\n",
       "    <tr style=\"text-align: right;\">\n",
       "      <th></th>\n",
       "      <th>ID</th>\n",
       "      <th>Fpts</th>\n",
       "      <th>Salary</th>\n",
       "      <th>Value</th>\n",
       "    </tr>\n",
       "  </thead>\n",
       "  <tbody>\n",
       "    <tr>\n",
       "      <th>0</th>\n",
       "      <td>0</td>\n",
       "      <td>25.37</td>\n",
       "      <td>8200</td>\n",
       "      <td>3.09</td>\n",
       "    </tr>\n",
       "    <tr>\n",
       "      <th>1</th>\n",
       "      <td>1</td>\n",
       "      <td>27.72</td>\n",
       "      <td>10000</td>\n",
       "      <td>2.77</td>\n",
       "    </tr>\n",
       "    <tr>\n",
       "      <th>2</th>\n",
       "      <td>2</td>\n",
       "      <td>19.86</td>\n",
       "      <td>6400</td>\n",
       "      <td>3.10</td>\n",
       "    </tr>\n",
       "    <tr>\n",
       "      <th>3</th>\n",
       "      <td>3</td>\n",
       "      <td>21.42</td>\n",
       "      <td>6800</td>\n",
       "      <td>3.15</td>\n",
       "    </tr>\n",
       "    <tr>\n",
       "      <th>4</th>\n",
       "      <td>4</td>\n",
       "      <td>18.11</td>\n",
       "      <td>6500</td>\n",
       "      <td>2.79</td>\n",
       "    </tr>\n",
       "    <tr>\n",
       "      <th>...</th>\n",
       "      <td>...</td>\n",
       "      <td>...</td>\n",
       "      <td>...</td>\n",
       "      <td>...</td>\n",
       "    </tr>\n",
       "    <tr>\n",
       "      <th>236</th>\n",
       "      <td>256</td>\n",
       "      <td>3.56</td>\n",
       "      <td>4000</td>\n",
       "      <td>0.89</td>\n",
       "    </tr>\n",
       "    <tr>\n",
       "      <th>237</th>\n",
       "      <td>257</td>\n",
       "      <td>4.35</td>\n",
       "      <td>4300</td>\n",
       "      <td>1.01</td>\n",
       "    </tr>\n",
       "    <tr>\n",
       "      <th>238</th>\n",
       "      <td>259</td>\n",
       "      <td>4.89</td>\n",
       "      <td>4100</td>\n",
       "      <td>1.19</td>\n",
       "    </tr>\n",
       "    <tr>\n",
       "      <th>239</th>\n",
       "      <td>260</td>\n",
       "      <td>5.02</td>\n",
       "      <td>2500</td>\n",
       "      <td>2.01</td>\n",
       "    </tr>\n",
       "    <tr>\n",
       "      <th>240</th>\n",
       "      <td>261</td>\n",
       "      <td>5.39</td>\n",
       "      <td>4600</td>\n",
       "      <td>1.17</td>\n",
       "    </tr>\n",
       "  </tbody>\n",
       "</table>\n",
       "<p>241 rows × 4 columns</p>\n",
       "</div>"
      ],
      "text/plain": [
       "      ID   Fpts  Salary  Value\n",
       "0      0  25.37    8200   3.09\n",
       "1      1  27.72   10000   2.77\n",
       "2      2  19.86    6400   3.10\n",
       "3      3  21.42    6800   3.15\n",
       "4      4  18.11    6500   2.79\n",
       "..   ...    ...     ...    ...\n",
       "236  256   3.56    4000   0.89\n",
       "237  257   4.35    4300   1.01\n",
       "238  259   4.89    4100   1.19\n",
       "239  260   5.02    2500   2.01\n",
       "240  261   5.39    4600   1.17\n",
       "\n",
       "[241 rows x 4 columns]"
      ]
     },
     "execution_count": 242,
     "metadata": {},
     "output_type": "execute_result"
    }
   ],
   "source": [
    "df2 = pd.read_csv('week2.csv')\n",
    "df2\n",
    "\n",
    "data2 = df2[[\"ID\",\"Fpts\", \"Salary\", \"Value\"]]\n",
    "data2"
   ]
  },
  {
   "cell_type": "code",
   "execution_count": 243,
   "metadata": {},
   "outputs": [],
   "source": [
    "x2 = data2.drop([\"Fpts\"], axis=1)\n",
    "y2 = data2.Fpts  "
   ]
  },
  {
   "cell_type": "code",
   "execution_count": 246,
   "metadata": {},
   "outputs": [],
   "source": [
    "x_train2, x_test2, y_train2, y_test2 = sklearn.model_selection.train_test_split(x2, y2, test_size = 0.2)"
   ]
  },
  {
   "cell_type": "code",
   "execution_count": 245,
   "metadata": {},
   "outputs": [
    {
     "data": {
      "text/plain": [
       "((192, 3), (192,))"
      ]
     },
     "execution_count": 245,
     "metadata": {},
     "output_type": "execute_result"
    }
   ],
   "source": [
    "x_train2.shape, y_train2.shape"
   ]
  },
  {
   "cell_type": "code",
   "execution_count": 247,
   "metadata": {},
   "outputs": [
    {
     "data": {
      "text/plain": [
       "((49, 3), (49,))"
      ]
     },
     "execution_count": 247,
     "metadata": {},
     "output_type": "execute_result"
    }
   ],
   "source": [
    "x_test2.shape, y_test2.shape"
   ]
  },
  {
   "cell_type": "code",
   "execution_count": 248,
   "metadata": {},
   "outputs": [
    {
     "data": {
      "text/plain": [
       "array([ 9.91986367,  8.17797486, 10.7754187 , 12.82540352,  8.55292394,\n",
       "       11.3747541 ,  9.03643942,  9.58414761, 13.73392022, 10.67566636,\n",
       "       10.52752542, 15.36066546,  9.7303595 , 13.29136386,  9.00944284,\n",
       "        8.29219867,  5.1273209 , 20.48339294, 15.24085071, 22.4256041 ,\n",
       "        6.1594904 , 13.73051236, 17.11215252,  8.72727543,  8.80174758,\n",
       "       16.16851494,  5.67227449, 13.77120685, 16.49969258,  8.34306292,\n",
       "       10.06804987, 14.05145581,  9.46481686,  4.77862276,  9.56924223,\n",
       "       12.2848334 , 15.42713847, 10.36244796,  2.39341835, 22.16672039,\n",
       "        9.8158828 , 19.60086927, 10.4031771 ,  5.73507501,  8.61566673,\n",
       "       10.79787685, 13.23482877, 11.50944443,  8.27924153, 12.86589596,\n",
       "        8.82089696,  6.28936522, 19.47655074, 11.37023114, 15.64763106,\n",
       "        1.98532085, 13.0701381 ,  5.97975187, 13.75582234,  6.19719846,\n",
       "       14.09021639,  2.78106665,  5.30301747,  4.60820353,  9.36054343,\n",
       "        8.80320235,  6.23139269, 10.98930434,  6.25795537, 18.71402655,\n",
       "        6.85549447,  9.47894867, 20.56996876, 16.74438677, 18.81876366,\n",
       "       19.35452312, 15.53628885, 16.7892733 , 10.51509268, 12.01862203,\n",
       "        5.64857237, 16.61111655, 14.43051128, 15.32133337, 10.86848418,\n",
       "       17.37012319,  5.36402169,  3.24761584, 20.01111706, 17.87954995,\n",
       "       13.91851466,  8.90436605, 11.25408888, 13.87787788, 13.14682797,\n",
       "       10.41953724, 12.1608199 ,  7.33937941, 17.60286379, 12.66266594,\n",
       "        2.95533825, 15.94575936,  6.18902219, 14.71308279,  7.08916544,\n",
       "        4.3202951 , 11.67254087, 15.63600654, 17.96060412,  9.06182629,\n",
       "       24.54432004, 11.71967977,  9.41888542, 12.23801685,  8.03176297,\n",
       "       24.62834819, 16.75399562,  1.24071064, 10.95002997, 19.34515672,\n",
       "       18.6116697 ,  8.2467637 ,  5.44510565, 12.91945708, 12.20549376,\n",
       "       11.36099175, 14.63935628,  9.48484463, 20.21494077,  4.57781641,\n",
       "       16.4791808 ,  4.69440989, 11.55470714,  7.46442626, 19.49802081,\n",
       "       10.02537436, 10.73222939, 21.55856217,  7.71097446, 20.08432217,\n",
       "       19.99227756, 19.04607012, 10.56744635, 22.52433556, 16.4431277 ,\n",
       "        9.36829826,  6.03820355, 10.07682744, 14.63633034, 18.37215474,\n",
       "       16.38003277,  8.80915028,  8.89695089,  7.11769183, 12.6409467 ,\n",
       "        3.71403801, 16.38385535, 11.33272513, 18.14859095, 14.99648559,\n",
       "       14.139319  , 10.23303496,  6.75481177,  5.55232026, 11.97029299,\n",
       "       13.59406038, 11.02605596,  3.52428467, 13.32280164,  1.61934954,\n",
       "       21.00701408,  8.91882507,  3.61080277,  6.55504547,  7.91015678,\n",
       "        8.3098635 ,  6.55382555,  8.69368436, 17.163952  ,  6.82843531,\n",
       "       15.26315879,  8.12921193,  8.46616339, 18.22320744,  6.10300242,\n",
       "        9.96283361, 26.57450407,  0.8289753 , 21.47336121, 21.53391607,\n",
       "        8.63091178, 19.98015657])"
      ]
     },
     "execution_count": 248,
     "metadata": {},
     "output_type": "execute_result"
    }
   ],
   "source": [
    "week2_predict = model.predict(x_train2)\n",
    "week2_predict"
   ]
  },
  {
   "cell_type": "code",
   "execution_count": null,
   "metadata": {},
   "outputs": [],
   "source": []
  }
 ],
 "metadata": {
  "kernelspec": {
   "display_name": "Python 3",
   "language": "python",
   "name": "python3"
  },
  "language_info": {
   "codemirror_mode": {
    "name": "ipython",
    "version": 3
   },
   "file_extension": ".py",
   "mimetype": "text/x-python",
   "name": "python",
   "nbconvert_exporter": "python",
   "pygments_lexer": "ipython3",
   "version": "3.7.6"
  }
 },
 "nbformat": 4,
 "nbformat_minor": 4
}
